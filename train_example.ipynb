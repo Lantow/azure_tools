{
 "cells": [
  {
   "cell_type": "code",
   "execution_count": 1,
   "metadata": {},
   "outputs": [],
   "source": [
    "from train import *"
   ]
  },
  {
   "cell_type": "code",
   "execution_count": 4,
   "metadata": {},
   "outputs": [],
   "source": [
    "?create_and_train"
   ]
  },
  {
   "cell_type": "code",
   "execution_count": 6,
   "metadata": {
    "scrolled": false
   },
   "outputs": [
    {
     "name": "stdout",
     "output_type": "stream",
     "text": [
      "Creating project with project name: BBR-test2\n",
      "Converting images to Azure ImageFiles\n",
      "Upload of some images from batch with images 0 to 63 Failed.\n",
      "\n",
      "    ----    Faulty Images:   ----\n",
      "Image status of image nr 13: OKDuplicate\n",
      "Image status of image nr 28: OKDuplicate\n",
      "Image status of image nr 35: OKDuplicate\n",
      "    ----     ----    ----    ----\n",
      "\n",
      "Upload of some images from batch with images 64 to 127 Failed.\n",
      "\n",
      "    ----    Faulty Images:   ----\n",
      "Image status of image nr 15: ErrorUnknown\n",
      "Image status of image nr 22: OKDuplicate\n",
      "    ----     ----    ----    ----\n",
      "\n",
      "Upload of some images from batch with images 128 to 191 Failed.\n",
      "\n",
      "    ----    Faulty Images:   ----\n",
      "Image status of image nr 7: OKDuplicate\n",
      "Image status of image nr 42: OKDuplicate\n",
      "Image status of image nr 43: OKDuplicate\n",
      "    ----     ----    ----    ----\n",
      "\n",
      "Upload of some images from batch with images 192 to 255 Failed.\n",
      "\n",
      "    ----    Faulty Images:   ----\n",
      "Image status of image nr 2: ErrorUnknown\n",
      "Image status of image nr 35: OKDuplicate\n",
      "    ----     ----    ----    ----\n",
      "\n",
      "Upload of some images from batch with images 256 to 319 Failed.\n",
      "\n",
      "    ----    Faulty Images:   ----\n",
      "Image status of image nr 13: OKDuplicate\n",
      "Image status of image nr 24: OKDuplicate\n",
      "Image status of image nr 61: OKDuplicate\n",
      "    ----     ----    ----    ----\n",
      "\n",
      "Upload image batch with images 320 to 383 Succes.\n",
      "Upload of some images from batch with images 384 to 447 Failed.\n",
      "\n",
      "    ----    Faulty Images:   ----\n",
      "Image status of image nr 0: OKDuplicate\n",
      "Image status of image nr 4: OKDuplicate\n",
      "Image status of image nr 5: OKDuplicate\n",
      "Image status of image nr 10: OKDuplicate\n",
      "Image status of image nr 11: ErrorUnknown\n",
      "Image status of image nr 12: ErrorUnknown\n",
      "Image status of image nr 14: OKDuplicate\n",
      "Image status of image nr 18: OKDuplicate\n",
      "Image status of image nr 33: ErrorUnknown\n",
      "Image status of image nr 46: OKDuplicate\n",
      "Image status of image nr 48: OKDuplicate\n",
      "Image status of image nr 51: ErrorUnknown\n",
      "Image status of image nr 56: OKDuplicate\n",
      "    ----     ----    ----    ----\n",
      "\n",
      "Upload of some images from batch with images 448 to 511 Failed.\n",
      "\n",
      "    ----    Faulty Images:   ----\n",
      "Image status of image nr 27: OKDuplicate\n",
      "Image status of image nr 56: OKDuplicate\n",
      "Image status of image nr 57: OKDuplicate\n",
      "    ----     ----    ----    ----\n",
      "\n",
      "Upload image batch with images 512 to 575 Succes.\n",
      "Upload image batch with images 576 to 639 Succes.\n",
      "Upload image batch with images 640 to 703 Succes.\n",
      "Upload image batch with images 704 to 767 Succes.\n",
      "Upload image batch with images 768 to 831 Succes.\n",
      "Upload image batch with images 832 to 895 Succes.\n",
      "Training...\n",
      "Please insert the Recouse Id of the prediction ressource............\n",
      " As found by clicking on the prediction ressource found here: \n",
      "https://www.customvision.ai/projects#/settings\n",
      "Or go through the portal to the ressourceand find the key in left bar under 'Keys and Endpoint'\n",
      "/subscriptions/488dd70e-ecbe-4fda-a7d4-8ffdc6416827/resourceGroups/RG-PA-Registerforvaltningen/providers/Microsoft.CognitiveServices/accounts/BBRpred\n",
      "published with itteration name: TEST\n"
     ]
    }
   ],
   "source": [
    "create_and_train(\"BBR-test2\", [\"ikke_påbegyndt\", \"påbegyndt\"], iteration_name=\"TEST\")"
   ]
  },
  {
   "cell_type": "code",
   "execution_count": 8,
   "metadata": {},
   "outputs": [
    {
     "name": "stdout",
     "output_type": "stream",
     "text": [
      "                precision    recall  f1-score   support\n",
      "\n",
      "      eks_1_t0       0.00      0.00      0.00         1\n",
      "ikke_påbegyndt       0.56      1.00      0.71        20\n",
      "     påbegyndt       0.83      0.24      0.37        21\n",
      "\n",
      "      accuracy                           0.60        42\n",
      "     macro avg       0.46      0.41      0.36        42\n",
      "  weighted avg       0.68      0.60      0.53        42\n",
      "\n"
     ]
    }
   ],
   "source": [
    "labels,predictions = predict(\"til_klassificering\", \"BBR-test2\", file_types=\".png\", threshold=0.0, iteration_name=\"TEST\")"
   ]
  },
  {
   "cell_type": "code",
   "execution_count": 9,
   "metadata": {},
   "outputs": [
    {
     "name": "stdout",
     "output_type": "stream",
     "text": [
      "                precision    recall  f1-score   support\n",
      "\n",
      "      eks_1_t0       0.00      0.00      0.00         1\n",
      "ikke_påbegyndt       0.56      1.00      0.71        20\n",
      "     påbegyndt       0.83      0.24      0.37        21\n",
      "\n",
      "      accuracy                           0.60        42\n",
      "     macro avg       0.46      0.41      0.36        42\n",
      "  weighted avg       0.68      0.60      0.53        42\n",
      "\n"
     ]
    }
   ],
   "source": [
    "labels,predictions = predict(\"til_klassificering\", \"BBR-test1\", file_types=\".png\", threshold=0.0, iteration_name=\"TEST\")"
   ]
  }
 ],
 "metadata": {
  "kernelspec": {
   "display_name": "Python 3",
   "language": "python",
   "name": "python3"
  },
  "language_info": {
   "codemirror_mode": {
    "name": "ipython",
    "version": 3
   },
   "file_extension": ".py",
   "mimetype": "text/x-python",
   "name": "python",
   "nbconvert_exporter": "python",
   "pygments_lexer": "ipython3",
   "version": "3.6.8"
  }
 },
 "nbformat": 4,
 "nbformat_minor": 4
}
